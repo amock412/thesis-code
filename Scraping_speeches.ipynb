{
 "cells": [
  {
   "cell_type": "markdown",
   "metadata": {},
   "source": [
    "# Scrape speeches\n",
    "\n",
    "The following details code to scrape speeches from a website. This code currently focused on scraping speeches from Wellesley's website. Minor changes may need to happen based on "
   ]
  },
  {
   "cell_type": "code",
   "execution_count": 1,
   "metadata": {},
   "outputs": [],
   "source": [
    " #import chrome webdriver\n",
    "from selenium import webdriver\n",
    "from webdriver_manager.chrome import ChromeDriverManager"
   ]
  },
  {
   "cell_type": "code",
   "execution_count": 142,
   "metadata": {},
   "outputs": [],
   "source": [
    "browser = webdriver.Chrome()"
   ]
  },
  {
   "cell_type": "code",
   "execution_count": 43,
   "metadata": {},
   "outputs": [],
   "source": [
    "def scrapeSpeech(browserEl, url):\n",
    "    \"\"\"\n",
    "    given a browser and url of a page extracts the speech text from that page\n",
    "    \"\"\"\n",
    "    browserEl.get(url)\n",
    "    speech = browser.find_elements_by_xpath('//div[@class=\"field-item even\"]')[0]\n",
    "    return speech.text"
   ]
  },
  {
   "cell_type": "code",
   "execution_count": 101,
   "metadata": {},
   "outputs": [],
   "source": [
    "def extractYear(url):\n",
    "    \"\"\"\n",
    "    returns the numbers included in a url\n",
    "    \"\"\"\n",
    "    digits = [d for d in url if d.isdigit()]\n",
    "    return ''.join(digits)"
   ]
  },
  {
   "cell_type": "code",
   "execution_count": 161,
   "metadata": {},
   "outputs": [],
   "source": [
    "def extractSpeech(url, browserEl,uniName,num=1,end=None):\n",
    "    \"\"\"\n",
    "    writes to a file the speech text of a speech found under a particular url \n",
    "    and saves it to a file that includes the university name and year the speech was given\n",
    "    \"\"\"\n",
    "    speech = scrapeSpeech(browserEl, url)\n",
    "    year = extractYear(url)\n",
    "    f = open(uniName + year + \".txt\",\"w+\") # save speech under file that includes university name + year of speech\n",
    "    if end == None:\n",
    "        clean_speech = ' '.join(speech.split('\\n')[num:]) # gets rid of speaker info (not part of speech)\n",
    "    else:\n",
    "        clean_speech = ' '.join(speech.split('\\n')[num:end])\n",
    "    f.write(''.join(clean_speech.split(\"\\\"\" ))) # cleans speech text further\n",
    "    f.close() "
   ]
  },
  {
   "cell_type": "code",
   "execution_count": 139,
   "metadata": {},
   "outputs": [],
   "source": [
    "def getSpeeches(browserElement, file, uniName, num=1):\n",
    "    \"\"\"\n",
    "    given a file that includes urls extracts the speeches found under each url and saves them under individual files \n",
    "    that include the university name (uniName)\n",
    "    \"\"\"\n",
    "    with open(file) as fileName:\n",
    "        urls = fileName.readlines()\n",
    "        for link in urls:\n",
    "            extractSpeech(link, browserElement,uniName,num)"
   ]
  },
  {
   "cell_type": "code",
   "execution_count": 133,
   "metadata": {},
   "outputs": [],
   "source": [
    "# extract speeches from wellesley\n",
    "getSpeeches(browser,'wellesley_urls.txt', 'wellesley')"
   ]
  },
  {
   "cell_type": "markdown",
   "metadata": {},
   "source": [
    "In the case of speeches held at Wellesley there are multiple lines that include sometimes the title of the person given the speech as well as additional information. In most cases only the first line in the speech includes the speech information. However since this is not always the case we split up the urls into those that only have information on the first line and those that have multiple lines of information."
   ]
  },
  {
   "cell_type": "code",
   "execution_count": 143,
   "metadata": {},
   "outputs": [],
   "source": [
    "# extract speeches from wellesley with 2 lines before speech commences\n",
    "getSpeeches(browser,'wellesley_urls2.txt', 'wellesley',2)"
   ]
  },
  {
   "cell_type": "code",
   "execution_count": 144,
   "metadata": {},
   "outputs": [],
   "source": [
    "# extract speech from 1902\n",
    "extractSpeech('https://www.wellesley.edu/events/commencement/archives/1902commencement', browser, 'wellesley', 3)"
   ]
  },
  {
   "cell_type": "markdown",
   "metadata": {},
   "source": [
    "There is one special case in 1990 when there were to commencement speakers, here both Barbara Bush and Raisa Gorbachev  gave commencement speeches. Both speeches are included on the same page thus making it a bit harder to extract each speech with the code written above. Instead by examing the speech carefully we can split up the text to include the text of each individual speech."
   ]
  },
  {
   "cell_type": "code",
   "execution_count": 145,
   "metadata": {},
   "outputs": [],
   "source": [
    "# grab text from 1990s speeches\n",
    "speech1990 = scrapeSpeech(browser, 'https://www.wellesley.edu/events/commencement/archives/1990commencement/commencementaddress')"
   ]
  },
  {
   "cell_type": "code",
   "execution_count": 149,
   "metadata": {},
   "outputs": [
    {
     "data": {
      "text/plain": [
       "['Commencement Speakers:',\n",
       " '',\n",
       " 'Barbara Bush',\n",
       " 'Raisa Gorbachev',\n",
       " \"Mrs. Bush's Commencement Address to the Wellesley College Class of 1990\",\n",
       " 'Thank you President Keohane, Mrs. Gorbachev, Trustees, Faculty, Parents, Julia Porter, and certainly my new best friend, Christine Bicknell, and, of course, the Class of 1990. I am really thrilled to be here today, and very excited, as I know you all must be, that Mrs. Gorbachev could join us.',\n",
       " 'These are exciting times. They are exciting in Washington, and I have really looked forward to coming to Wellesley. I thought it was going to be fun -- I never dreamed it would be this much fun.',\n",
       " \"More than ten years ago when I was invited here to talk about our experiences in the People's Republic of China, I was struck by both the natural beauty of your campus ... and the spirit of this place.\",\n",
       " 'Wellesley, you see, is not just a place ... but an idea ... an experiment in excellence in which diversity is not just tolerated, but is embraced.',\n",
       " 'The essence of this spirit was captured in a moving speech about tolerance given last year by a student body president of one of your sister colleges. She related the story by Robert Fulghum about a young pastor, finding himself in charge of some very energetic children, hits upon a game called \"Giants, Wizards, and Dwarfs.\" \"You have to decide now,\" the pastor instructed the children, \"which you are ... a giant, a wizard or a dwarf?\" At that, a small girl tugging at his pants leg, asked, \"But where do the mermaids stand?\"',\n",
       " 'The pastor tells her there are no mermaids. \"Oh yes there are,\" she said. \"I am a mermaid.\"',\n",
       " 'Now this little girl knew what she was and she was not about to give up on either her identity or the game. She intended to take her place wherever mermaids fit into the scheme of things. Where do mermaids fit into the scheme of things. Where do mermaids stand ... all of those who are different, those who do not fit the boxes and the pigeonholes?\" \"Answer that question,\" wrote Fulghum, \"and you can build a school, a nation, or a whole world.\"',\n",
       " 'As that very wise young woman said. \"Diversity ... like anything worth having ... requires effort.\" Effort to learn about and respect difference, to be compassionate with one another, to cherish our own identity ... and to accept unconditionally the same in others.',\n",
       " \"You should all be very proud that this is the Wellesley spirit. Now I know your first choice for today was Alice Walker (guess how I know!), known for The Color Purple. Instead you got me -- known for the color of my hair! Alice Walker's book has a special resonance here. At Wellesley, each class is known by a special color ... and for four years the Class of 1990 has worn the color purple. Today you meet on Severance Green to say goodbye to all of that ... to begin a new and very personal journey ... a search for your own true colors.\",\n",
       " 'In the world that awaits you beyond the shores of Lake Waban, no one can say what your true colors will be. But this I do know: You have a first-class education from a first-class school. And so you need not, probably cannot, live a \"paint-by-numbers\" life. Decisions are not irrevocable. Choices do come back. And as you set off from Wellesley, I hope that many of you will consider making three very special choices.',\n",
       " 'The first is to believe in something larger than yourself ... to get involved in some of the big ideas of our time. I chose literacy because I honestly believe that if more people could read, write and comprehend, we would be that much closer to solving so many of the problems that plague our nation and our society.',\n",
       " \"Early on I made another choice which I hope you will make as well. Whether you are talking about education, career or service, you are talking about life ... and life really must have joy. It's supposed to be fun!\",\n",
       " 'One of the reasons I made the most important decision of my life ... to marry George Bush ... is because he made me laugh. It\\'s true, sometimes we\\'ve laughed through our tears ... but that shared laughter has been one of our strongest bonds. Find the joy in life, because as Ferris Bueller said on his day off ... \"Life moves pretty fast. Ya don\\'t stop and look around once in a while, ya gonna miss it!\" (I am not going to tell George you clapped more for Ferris than you did for George.)',\n",
       " \"The third choice that must not be missed is to cherish your human connections: your relationships with family and friends. For several years, you've had impressed upon you the importance to your career of dedication and hard work, and, of course, that's true. But as important as your obligations as a doctor, lawyer or business leader will be, you are a human being first and those human connections --- with spouses, with children, with friends -- are the most important investments you will ever make.\",\n",
       " 'At the end of your life, you will never regret not having passed one more test, not winning one more verdict or not closing one more deal. You will regret time not spent with a husband, a child, a friend or a parent.',\n",
       " \"We are in a transitional period right now ... fascinating and exhilarating times ... learning to adjust to the changes and the choices we ... men and women ... are facing. As an example, I remember what a friend said, on hearing her husband complain to his buddies that he had to babysit. Quickly setting him straight, my friend told her husband that when it's your own kids, it's not called babysitting!\",\n",
       " 'Maybe we should adjust faster, maybe we should adjust slower. But whatever the era, whatever the times, one thing will never change: Fathers and mothers, if you have children --- they must come first.',\n",
       " 'You must read to your children, hug your children, and you must love your children. Your success as a family ... our success as a society depends not on what happens in the White House, but on what happens inside your house.',\n",
       " \"For over 50 years, it was said that the winner of Wellesley's annual hoop race would be the first to get married. Now they say the winner will be the first to become a C.E.O. Both of those stereotypes show too little tolerance for those who want to know where the mermaids stand. So I want to offer you today a new legend: The winner of the hoop race will be the first to realize her dream ... not society's dreams ... her own personal dream. And who knows? Somewhere out in this audience may even be someone who will one day follow in my footsteps, and preside over the White House as the President's spouse.\",\n",
       " 'I wish him well!',\n",
       " 'Well, the controversy ends here. But our conversation is only beginning. And a worthwhile conversation it has been. So as you leave Wellesley today, take with you deep thanks for the courtesy and the honor you have shared with Mrs. Gorbachev and with me. Thank you. God bless you. And may your future be worthy of your dreams.',\n",
       " \"  Mrs.Gorbachev's Commencement Address to the Wellesley College Class of 1990\",\n",
       " 'Dear Friends,',\n",
       " 'I am pleased to be with you at this momentous and exciting day when you are leaving your college and entering a new life. I congratulate you on this important occasion. I am grateful to Mrs. Barbara Bush and to the college administration for this chance of coming to Wellesley during our stay in America. I thank college officials professors, and all of you for your kinds words and warm feelings.',\n",
       " \"I distinctly remember a similar summer day in Moscow. The years of my studies at Moscow University were over. We were then full of plans and hopes just like you are today. Being young is a marvelous time, a time of actions and expectations, of being confident of one's abilities and sure that everything is still ahead. I wish that all your dreams of the future come true.\",\n",
       " 'The President of the Soviet Union asked me to convey to you his warm regards. He also wishes you happy roads in your life. We know that people in America show great interest in what is happening in the Soviet Union, the land of perestroika. This word nowadays sounds the same in all the languages of the world. We associate with perestroika the future of our country, whose millions of people speak over 120 languages. Perestroika was conceived and is being implemented for the sake of the people, their dignity, and quality. Its goal is to make humane ideals and values a reality. This vast and difficult task is a top challenge, but we are confident that perestroika will succeed. The guarantee of that is the patriotism and talent of our people, their tenacity, their strength, and their desire to overcome obstacles on the way, on the road they chose.',\n",
       " 'In renewing our country we want to make it open to the world. The Soviet people know the value of peaceful life. We wish to have good relations with the Americans and other peoples. Of course, all of us, daughters and sons of our own countries and peoples are different. The Soviet Union and the United States have different histories, traditions, and cultures. That, however, is not the reason for mutual estrangement and suspicion. People on both sides of the great ocean realize more and more clearly there are values that bring us closer. Such values are love for one\\'s own native country, love for one\\'s relatives, children, the belief in what is good, belief in solidarity to combat wars, violence, hunger, catastrophes, and other threats to mankind. These values are now more important than anything else. Hamlet\\'s question, \"To be or not to be,\" today confronts not only individuals or nations, but the entire humanity. So what will our society be like? Not only the leaders of states, but the world community as a whole, share this responsibility.',\n",
       " 'We women have our special mission. Always, even in the most cruel and troubled times, women have had the mission of peacemaking, humanism. mercy, and kindness. And if people in the world today are more confident of a peaceful future, we have to give a great deal of credit for that to women, who are active in advocating friendship, cooperation, and mutual understanding among nations.',\n",
       " 'You are entering a complex and multifaceted world. Your generation will soon assume The responsibility for everything that takes place on our planet. May good luck and happiness be with you. I wish you many good accomplishments.']"
      ]
     },
     "execution_count": 149,
     "metadata": {},
     "output_type": "execute_result"
    }
   ],
   "source": [
    "# split speech\n",
    "speech1990.split('\\n')"
   ]
  },
  {
   "cell_type": "code",
   "execution_count": 151,
   "metadata": {},
   "outputs": [
    {
     "data": {
      "text/plain": [
       "34"
      ]
     },
     "execution_count": 151,
     "metadata": {},
     "output_type": "execute_result"
    }
   ],
   "source": [
    "len(speech1990.split('\\n'))"
   ]
  },
  {
   "cell_type": "code",
   "execution_count": 165,
   "metadata": {},
   "outputs": [],
   "source": [
    "# extract and save barabara bush's speech\n",
    "extractSpeech('https://www.wellesley.edu/events/commencement/archives/1990commencement/commencementaddress', \n",
    "              browser,'wellesley_bush',num=5,end=26)"
   ]
  },
  {
   "cell_type": "code",
   "execution_count": 166,
   "metadata": {},
   "outputs": [],
   "source": [
    "# extract and save gorbachev speech\n",
    "extractSpeech('https://www.wellesley.edu/events/commencement/archives/1990commencement/commencementaddress', \n",
    "              browser,'wellesley_gorbachev',num=27)"
   ]
  },
  {
   "cell_type": "code",
   "execution_count": null,
   "metadata": {},
   "outputs": [],
   "source": []
  },
  {
   "cell_type": "code",
   "execution_count": null,
   "metadata": {},
   "outputs": [],
   "source": []
  }
 ],
 "metadata": {
  "kernelspec": {
   "display_name": "Python 3",
   "language": "python",
   "name": "python3"
  },
  "language_info": {
   "codemirror_mode": {
    "name": "ipython",
    "version": 3
   },
   "file_extension": ".py",
   "mimetype": "text/x-python",
   "name": "python",
   "nbconvert_exporter": "python",
   "pygments_lexer": "ipython3",
   "version": "3.7.6"
  }
 },
 "nbformat": 4,
 "nbformat_minor": 4
}
